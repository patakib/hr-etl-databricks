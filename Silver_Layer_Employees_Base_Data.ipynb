{
 "cells": [
  {
   "cell_type": "markdown",
   "metadata": {
    "application/vnd.databricks.v1+cell": {
     "cellMetadata": {
      "byteLimit": 2048000,
      "rowLimit": 10000
     },
     "inputWidgets": {},
     "nuid": "8ea72f10-1c6f-4d30-bef7-b2fdbdf28c84",
     "showTitle": false,
     "tableResultSettingsMap": {},
     "title": ""
    }
   },
   "source": [
    "# Employee ETL Pipeline - Silver Layer\n",
    "\n",
    "Architecture Overview:  \n",
    "![silver.jpg](./silver.jpg \"silver.jpg\")\n",
    "\n",
    "In this layer we are focusing on transformation of the data - data cleaning, grouping, joins and data enrichment.    \n",
    "See more on _Medallion Architecture_: https://www.databricks.com/glossary/medallion-architecture"
   ]
  },
  {
   "cell_type": "markdown",
   "metadata": {
    "application/vnd.databricks.v1+cell": {
     "cellMetadata": {
      "byteLimit": 2048000,
      "rowLimit": 10000
     },
     "inputWidgets": {},
     "nuid": "38d82903-2da7-4dd9-ac8f-e2cbe193ff9a",
     "showTitle": false,
     "tableResultSettingsMap": {},
     "title": ""
    }
   },
   "source": [
    "## Import Libraries"
   ]
  },
  {
   "cell_type": "code",
   "execution_count": 0,
   "metadata": {
    "application/vnd.databricks.v1+cell": {
     "cellMetadata": {
      "byteLimit": 2048000,
      "rowLimit": 10000
     },
     "inputWidgets": {},
     "nuid": "66220bd7-30f6-4ab7-9791-9d10f7355535",
     "showTitle": false,
     "tableResultSettingsMap": {},
     "title": ""
    }
   },
   "outputs": [],
   "source": [
    "from datetime import datetime\n",
    "\n",
    "from pyspark.sql import functions as F\n",
    "from pyspark.sql.functions import count, col, sum as spark_sum\n",
    "from pyspark.sql import Window"
   ]
  },
  {
   "cell_type": "markdown",
   "metadata": {
    "application/vnd.databricks.v1+cell": {
     "cellMetadata": {
      "byteLimit": 2048000,
      "rowLimit": 10000
     },
     "inputWidgets": {},
     "nuid": "9929a110-167d-4f8a-989c-ab0d9d294a57",
     "showTitle": false,
     "tableResultSettingsMap": {},
     "title": ""
    }
   },
   "source": [
    "## Get Data from Bronze Layer"
   ]
  },
  {
   "cell_type": "code",
   "execution_count": 0,
   "metadata": {
    "application/vnd.databricks.v1+cell": {
     "cellMetadata": {
      "byteLimit": 2048000,
      "rowLimit": 10000
     },
     "inputWidgets": {},
     "nuid": "5171607a-048a-4be0-9eea-794ee0f82c9e",
     "showTitle": false,
     "tableResultSettingsMap": {},
     "title": ""
    }
   },
   "outputs": [],
   "source": [
    "employees = spark.read.table(\"hrdata.bronze.employees\")"
   ]
  },
  {
   "cell_type": "code",
   "execution_count": 0,
   "metadata": {
    "application/vnd.databricks.v1+cell": {
     "cellMetadata": {
      "byteLimit": 2048000,
      "rowLimit": 10000
     },
     "inputWidgets": {},
     "nuid": "a5202c32-048c-4b0a-b59a-1334cc3fef05",
     "showTitle": false,
     "tableResultSettingsMap": {},
     "title": ""
    }
   },
   "outputs": [],
   "source": [
    "display(employees.limit(5))"
   ]
  },
  {
   "cell_type": "markdown",
   "metadata": {
    "application/vnd.databricks.v1+cell": {
     "cellMetadata": {
      "byteLimit": 2048000,
      "rowLimit": 10000
     },
     "inputWidgets": {},
     "nuid": "dc0b6c7f-1095-4110-91fa-c8d974ea1ff1",
     "showTitle": false,
     "tableResultSettingsMap": {},
     "title": ""
    }
   },
   "source": [
    "## Data Cleaning and Data Quality Checks\n",
    "Making sure the data does not include unrealistic values or duplicates."
   ]
  },
  {
   "cell_type": "markdown",
   "metadata": {
    "application/vnd.databricks.v1+cell": {
     "cellMetadata": {
      "byteLimit": 2048000,
      "rowLimit": 10000
     },
     "inputWidgets": {},
     "nuid": "bddd9cb1-b9e4-45cb-8a22-6da03eb89e01",
     "showTitle": false,
     "tableResultSettingsMap": {},
     "title": ""
    }
   },
   "source": [
    "### Duplicates"
   ]
  },
  {
   "cell_type": "code",
   "execution_count": 0,
   "metadata": {
    "application/vnd.databricks.v1+cell": {
     "cellMetadata": {
      "byteLimit": 2048000,
      "rowLimit": 10000
     },
     "inputWidgets": {},
     "nuid": "48acd8de-2ad6-4667-a6d2-8989c8f5d3ec",
     "showTitle": false,
     "tableResultSettingsMap": {},
     "title": ""
    }
   },
   "outputs": [],
   "source": [
    "DUPLICATE_KEY_COLUMNS = [\n",
    "  \"first_name\",\n",
    "  \"last_name\",\n",
    "  \"email\",\n",
    "  \"date_of_birth\",\n",
    "  \"phone_number\"\n",
    "]"
   ]
  },
  {
   "cell_type": "code",
   "execution_count": 0,
   "metadata": {
    "application/vnd.databricks.v1+cell": {
     "cellMetadata": {
      "byteLimit": 2048000,
      "rowLimit": 10000
     },
     "inputWidgets": {},
     "nuid": "13c37cb7-83b4-4302-a978-1637d1e98e87",
     "showTitle": false,
     "tableResultSettingsMap": {
      "0": {
       "dataGridStateBlob": "{\"version\":1,\"tableState\":{\"columnPinning\":{\"left\":[\"#row_number#\"],\"right\":[]},\"columnSizing\":{},\"columnVisibility\":{}},\"settings\":{\"columns\":{}},\"syncTimestamp\":1759334800299}",
       "filterBlob": null,
       "queryPlanFiltersBlob": null,
       "tableResultIndex": 0
      }
     },
     "title": ""
    }
   },
   "outputs": [],
   "source": [
    "employees_counts = employees.groupBy(DUPLICATE_KEY_COLUMNS).agg(count(\"*\").alias(\"count\"))\n",
    "employees_duplicate_keys = employees_counts.filter(col(\"count\") > 1).drop(\"count\")\n",
    "display(employees_duplicate_keys)"
   ]
  },
  {
   "cell_type": "code",
   "execution_count": 0,
   "metadata": {
    "application/vnd.databricks.v1+cell": {
     "cellMetadata": {
      "byteLimit": 2048000,
      "rowLimit": 10000
     },
     "inputWidgets": {},
     "nuid": "bf64413a-28a7-404a-a4b5-b62066ed95cd",
     "showTitle": false,
     "tableResultSettingsMap": {},
     "title": ""
    }
   },
   "outputs": [],
   "source": [
    "# Join back to the original DataFrame to get ALL duplicate rows\n",
    "employees_duplicates = employees.join(employees_duplicate_keys, on=DUPLICATE_KEY_COLUMNS, how=\"inner\")\n",
    "\n",
    "print(\"--- Found Duplicate Records (All Occurrences) ---\")\n",
    "display(employees_duplicates)\n",
    "print(f\"Total duplicate records found: {employees_duplicates.count()}\")"
   ]
  },
  {
   "cell_type": "markdown",
   "metadata": {
    "application/vnd.databricks.v1+cell": {
     "cellMetadata": {
      "byteLimit": 2048000,
      "rowLimit": 10000
     },
     "inputWidgets": {},
     "nuid": "e172b5de-418f-4389-90f7-cd776e82d6fa",
     "showTitle": false,
     "tableResultSettingsMap": {},
     "title": ""
    }
   },
   "source": [
    "#### Remove duplicates"
   ]
  },
  {
   "cell_type": "code",
   "execution_count": 0,
   "metadata": {
    "application/vnd.databricks.v1+cell": {
     "cellMetadata": {
      "byteLimit": 2048000,
      "rowLimit": 10000
     },
     "inputWidgets": {},
     "nuid": "eed2664e-ca9b-476e-9dde-a4fdf86156bd",
     "showTitle": false,
     "tableResultSettingsMap": {},
     "title": ""
    }
   },
   "outputs": [],
   "source": [
    "employees_deduplicated = employees.dropDuplicates(subset=DUPLICATE_KEY_COLUMNS)\n",
    "print(f\"Remaining records: {employees_deduplicated.count()}\")"
   ]
  },
  {
   "cell_type": "markdown",
   "metadata": {
    "application/vnd.databricks.v1+cell": {
     "cellMetadata": {
      "byteLimit": 2048000,
      "rowLimit": 10000
     },
     "inputWidgets": {},
     "nuid": "e78bbf75-2c7e-4a4e-90b0-83d20a6a236b",
     "showTitle": false,
     "tableResultSettingsMap": {},
     "title": ""
    }
   },
   "source": [
    "### Data Validation"
   ]
  },
  {
   "cell_type": "markdown",
   "metadata": {
    "application/vnd.databricks.v1+cell": {
     "cellMetadata": {
      "byteLimit": 2048000,
      "rowLimit": 10000
     },
     "inputWidgets": {},
     "nuid": "f85e39a0-50cc-4c77-a3de-3dcf06f014b8",
     "showTitle": false,
     "tableResultSettingsMap": {},
     "title": ""
    }
   },
   "source": [
    "#### Salary"
   ]
  },
  {
   "cell_type": "code",
   "execution_count": 0,
   "metadata": {
    "application/vnd.databricks.v1+cell": {
     "cellMetadata": {
      "byteLimit": 2048000,
      "rowLimit": 10000
     },
     "inputWidgets": {},
     "nuid": "183bdb0c-788a-45cf-aae2-bc9273790224",
     "showTitle": false,
     "tableResultSettingsMap": {},
     "title": ""
    }
   },
   "outputs": [],
   "source": [
    "SALARY_MIN = 30000\n",
    "SALARY_MAX = 300000\n",
    "\n",
    "# filtering salaries lower than SALARY_MIN or higher than SALARY_MAX\n",
    "unrealistic_salaries = employees_deduplicated.filter((col(\"salary\") > SALARY_MAX) | (col(\"salary\") < SALARY_MIN))\n",
    "display(unrealistic_salaries[\n",
    "    [\"first_name\", \"last_name\", \"email\", \"department\", \"salary\"]\n",
    "])"
   ]
  },
  {
   "cell_type": "code",
   "execution_count": 0,
   "metadata": {
    "application/vnd.databricks.v1+cell": {
     "cellMetadata": {
      "byteLimit": 2048000,
      "rowLimit": 10000
     },
     "inputWidgets": {},
     "nuid": "9362c102-7a97-4b8e-aa9d-dac4be99be1d",
     "showTitle": false,
     "tableResultSettingsMap": {},
     "title": ""
    }
   },
   "outputs": [],
   "source": [
    "filtered_employees = employees_deduplicated.filter((col(\"salary\") <= SALARY_MAX) & (col(\"salary\") >= SALARY_MIN))\n",
    "print(f\"Remaining records: {filtered_employees.count()}\")"
   ]
  },
  {
   "cell_type": "markdown",
   "metadata": {
    "application/vnd.databricks.v1+cell": {
     "cellMetadata": {
      "byteLimit": 2048000,
      "rowLimit": 10000
     },
     "inputWidgets": {},
     "nuid": "50031d8a-cb7e-4757-b55c-3a135bed5a8b",
     "showTitle": false,
     "tableResultSettingsMap": {},
     "title": ""
    }
   },
   "source": [
    "#### Email"
   ]
  },
  {
   "cell_type": "code",
   "execution_count": 0,
   "metadata": {
    "application/vnd.databricks.v1+cell": {
     "cellMetadata": {
      "byteLimit": 2048000,
      "rowLimit": 10000
     },
     "inputWidgets": {},
     "nuid": "8d845912-f5cc-44a8-bd9c-d61491495539",
     "showTitle": false,
     "tableResultSettingsMap": {},
     "title": ""
    }
   },
   "outputs": [],
   "source": [
    "# filtering unrealistic emails\n",
    "\n",
    "# without [et]\n",
    "unrealistic_emails = filtered_employees.filter(\n",
    "    ~filtered_employees.email.contains(\"@\")\n",
    ")\n",
    "\n",
    "# emails without point\n",
    "unrealistic_emails = unrealistic_emails.union(\n",
    "    filtered_employees.filter(~filtered_employees.email.contains(\".\"))\n",
    ")\n",
    "\n",
    "display(unrealistic_emails\n",
    "    [\"first_name\", \"last_name\", \"email\", \"department\"]\n",
    ")"
   ]
  },
  {
   "cell_type": "code",
   "execution_count": 0,
   "metadata": {
    "application/vnd.databricks.v1+cell": {
     "cellMetadata": {
      "byteLimit": 2048000,
      "rowLimit": 10000
     },
     "inputWidgets": {},
     "nuid": "f15b4e00-de4b-45e9-b851-3e43a4e1a862",
     "showTitle": false,
     "tableResultSettingsMap": {},
     "title": ""
    }
   },
   "outputs": [],
   "source": [
    "# removing records with invalid email address - filtering out inrealistic_emails\n",
    "filtered_employees = filtered_employees.join(unrealistic_emails, on=\"email\", how=\"left_anti\")\n",
    "print(f\"Remaining records: {filtered_employees.count()}\")"
   ]
  },
  {
   "cell_type": "markdown",
   "metadata": {
    "application/vnd.databricks.v1+cell": {
     "cellMetadata": {
      "byteLimit": 2048000,
      "rowLimit": 10000
     },
     "inputWidgets": {},
     "nuid": "e14f8150-ff75-4bd5-8915-c8663530440f",
     "showTitle": false,
     "tableResultSettingsMap": {},
     "title": ""
    }
   },
   "source": [
    "#### Hire Date"
   ]
  },
  {
   "cell_type": "code",
   "execution_count": 0,
   "metadata": {
    "application/vnd.databricks.v1+cell": {
     "cellMetadata": {
      "byteLimit": 2048000,
      "rowLimit": 10000
     },
     "inputWidgets": {},
     "nuid": "4a3aab82-58d5-49de-8a83-60c356520630",
     "showTitle": false,
     "tableResultSettingsMap": {},
     "title": ""
    }
   },
   "outputs": [],
   "source": [
    "HIRE_DATE_MIN = \"1990-01-01\"\n",
    "HIRE_DATE_MAX = datetime.now().strftime(\"%Y-%m-%d\")"
   ]
  },
  {
   "cell_type": "code",
   "execution_count": 0,
   "metadata": {
    "application/vnd.databricks.v1+cell": {
     "cellMetadata": {
      "byteLimit": 2048000,
      "rowLimit": 10000
     },
     "inputWidgets": {},
     "nuid": "b3eff5f0-dbda-4aa3-b4f9-95458ceadb61",
     "showTitle": false,
     "tableResultSettingsMap": {},
     "title": ""
    }
   },
   "outputs": [],
   "source": [
    "# filtering hire_date lower than HIRE_DATE_MIN or higher than HIRE_DATE_MAX\n",
    "unrealistic_hire_dates = filtered_employees.filter((col(\"hire_date\") > HIRE_DATE_MAX) | (col(\"hire_date\") < HIRE_DATE_MIN))\n",
    "display(unrealistic_hire_dates\n",
    "    [\"first_name\", \"last_name\", \"email\", \"department\", \"hire_date\"]\n",
    ")"
   ]
  },
  {
   "cell_type": "code",
   "execution_count": 0,
   "metadata": {
    "application/vnd.databricks.v1+cell": {
     "cellMetadata": {
      "byteLimit": 2048000,
      "rowLimit": 10000
     },
     "inputWidgets": {},
     "nuid": "0c22325e-fa5d-4e55-b8a3-ae50c1e26cc9",
     "showTitle": false,
     "tableResultSettingsMap": {},
     "title": ""
    }
   },
   "outputs": [],
   "source": [
    "# removing unrealistic hire dates\n",
    "filtered_employees = filtered_employees.join(unrealistic_hire_dates, on=\"hire_date\", how=\"left_anti\")\n",
    "print(f\"Remaining records: {filtered_employees.count()}\")"
   ]
  },
  {
   "cell_type": "markdown",
   "metadata": {
    "application/vnd.databricks.v1+cell": {
     "cellMetadata": {
      "byteLimit": 2048000,
      "rowLimit": 10000
     },
     "inputWidgets": {},
     "nuid": "8ea2c19e-67d1-4708-ade0-d4284fa3e37d",
     "showTitle": false,
     "tableResultSettingsMap": {},
     "title": ""
    }
   },
   "source": [
    "#### Birth Date"
   ]
  },
  {
   "cell_type": "code",
   "execution_count": 0,
   "metadata": {
    "application/vnd.databricks.v1+cell": {
     "cellMetadata": {
      "byteLimit": 2048000,
      "rowLimit": 10000
     },
     "inputWidgets": {},
     "nuid": "781c130f-3409-4948-b775-944456303af8",
     "showTitle": false,
     "tableResultSettingsMap": {},
     "title": ""
    }
   },
   "outputs": [],
   "source": [
    "BIRTH_DATE_MIN = \"1950-01-01\"\n",
    "BIRTH_DATE_MAX = \"2008-01-01\""
   ]
  },
  {
   "cell_type": "code",
   "execution_count": 0,
   "metadata": {
    "application/vnd.databricks.v1+cell": {
     "cellMetadata": {
      "byteLimit": 2048000,
      "rowLimit": 10000
     },
     "inputWidgets": {},
     "nuid": "c14b0cfb-1c9a-4ddf-be6a-81b92d6b3434",
     "showTitle": false,
     "tableResultSettingsMap": {},
     "title": ""
    }
   },
   "outputs": [],
   "source": [
    "# filter for unrealistic birth dates\n",
    "unrealistic_birth_dates = filtered_employees.filter((col(\"date_of_birth\") > BIRTH_DATE_MAX) | (col(\"date_of_birth\") < BIRTH_DATE_MIN))\n",
    "display(unrealistic_birth_dates\n",
    "    [\"first_name\", \"last_name\", \"email\", \"department\", \"date_of_birth\"]\n",
    ")"
   ]
  },
  {
   "cell_type": "code",
   "execution_count": 0,
   "metadata": {
    "application/vnd.databricks.v1+cell": {
     "cellMetadata": {
      "byteLimit": 2048000,
      "rowLimit": 10000
     },
     "inputWidgets": {},
     "nuid": "92adbb4b-1027-4c40-ae1b-2f0c02334842",
     "showTitle": false,
     "tableResultSettingsMap": {},
     "title": ""
    }
   },
   "outputs": [],
   "source": [
    "# removing unrealistic birth dates\n",
    "filtered_employees = filtered_employees.join(unrealistic_birth_dates, on=\"date_of_birth\", how=\"left_anti\")\n",
    "print(f\"Remaining records: {filtered_employees.count()}\")"
   ]
  },
  {
   "cell_type": "markdown",
   "metadata": {
    "application/vnd.databricks.v1+cell": {
     "cellMetadata": {},
     "inputWidgets": {},
     "nuid": "2217e011-1a45-41f8-8301-08c47ea19c04",
     "showTitle": false,
     "tableResultSettingsMap": {},
     "title": ""
    }
   },
   "source": [
    "## Add New Columns"
   ]
  },
  {
   "cell_type": "markdown",
   "metadata": {
    "application/vnd.databricks.v1+cell": {
     "cellMetadata": {},
     "inputWidgets": {},
     "nuid": "277d078f-eeb5-4bd7-9d1b-9c5800cef7ff",
     "showTitle": false,
     "tableResultSettingsMap": {},
     "title": ""
    }
   },
   "source": [
    "### Age"
   ]
  },
  {
   "cell_type": "code",
   "execution_count": 0,
   "metadata": {
    "application/vnd.databricks.v1+cell": {
     "cellMetadata": {
      "byteLimit": 2048000,
      "rowLimit": 10000
     },
     "inputWidgets": {},
     "nuid": "0fd39696-0c0c-4220-9595-3f6be3021fe2",
     "showTitle": false,
     "tableResultSettingsMap": {},
     "title": ""
    }
   },
   "outputs": [],
   "source": [
    "# Add age column\n",
    "filtered_employees = filtered_employees.withColumn(\"age\", F.round((F.datediff(F.current_date(), col(\"date_of_birth\")) / 365), 0))\n",
    "display(filtered_employees\n",
    "    [\"first_name\", \"last_name\", \"email\", \"department\", \"date_of_birth\", \"age\"].limit(3)\n",
    ")"
   ]
  },
  {
   "cell_type": "markdown",
   "metadata": {
    "application/vnd.databricks.v1+cell": {
     "cellMetadata": {},
     "inputWidgets": {},
     "nuid": "572ea065-5f71-4c4c-8366-a5af9243473c",
     "showTitle": false,
     "tableResultSettingsMap": {},
     "title": ""
    }
   },
   "source": [
    "### Years at the Company"
   ]
  },
  {
   "cell_type": "code",
   "execution_count": 0,
   "metadata": {
    "application/vnd.databricks.v1+cell": {
     "cellMetadata": {
      "byteLimit": 2048000,
      "rowLimit": 10000
     },
     "inputWidgets": {},
     "nuid": "97643650-08fd-45d8-9ced-b502989b241f",
     "showTitle": false,
     "tableResultSettingsMap": {},
     "title": ""
    }
   },
   "outputs": [],
   "source": [
    "# add new column with the years spent at the company\n",
    "filtered_employees = filtered_employees.withColumn(\"years_at_company\", F.round((F.datediff(F.current_date(), col(\"hire_date\")) / 365), 1))\n",
    "display(filtered_employees\n",
    "    [\"first_name\", \"last_name\", \"email\", \"department\", \"hire_date\", \"years_at_company\"].limit(3)\n",
    ")"
   ]
  },
  {
   "cell_type": "markdown",
   "metadata": {
    "application/vnd.databricks.v1+cell": {
     "cellMetadata": {},
     "inputWidgets": {},
     "nuid": "65f10c58-231b-4b9a-a758-68856b39c1f0",
     "showTitle": false,
     "tableResultSettingsMap": {},
     "title": ""
    }
   },
   "source": [
    "### Validity"
   ]
  },
  {
   "cell_type": "code",
   "execution_count": 0,
   "metadata": {
    "application/vnd.databricks.v1+cell": {
     "cellMetadata": {
      "byteLimit": 2048000,
      "rowLimit": 10000
     },
     "inputWidgets": {},
     "nuid": "20244ed5-49fd-4157-928c-4a90824152a9",
     "showTitle": false,
     "tableResultSettingsMap": {},
     "title": ""
    }
   },
   "outputs": [],
   "source": [
    "# Add valid_from column - in this case this is the hire_date\n",
    "filtered_employees = filtered_employees.withColumn(\"valid_from\", col(\"hire_date\"))\n",
    "display(filtered_employees\n",
    "    [\"first_name\", \"last_name\", \"email\", \"department\", \"hire_date\", \"valid_from\"].limit(3)\n",
    ")"
   ]
  },
  {
   "cell_type": "code",
   "execution_count": 0,
   "metadata": {
    "application/vnd.databricks.v1+cell": {
     "cellMetadata": {
      "byteLimit": 2048000,
      "rowLimit": 10000
     },
     "inputWidgets": {},
     "nuid": "93e0ab16-2c64-49e4-9a6e-e4b461c682c5",
     "showTitle": false,
     "tableResultSettingsMap": {},
     "title": ""
    }
   },
   "outputs": [],
   "source": [
    "# add valid_to - in this case this is always empty\n",
    "filtered_employees = filtered_employees.withColumn(\"valid_to\", F.lit(\"\"))\n",
    "display(filtered_employees\n",
    "    [\"first_name\", \"last_name\", \"email\", \"department\", \"hire_date\", \"valid_from\", \"valid_to\"].limit(3)\n",
    ")"
   ]
  },
  {
   "cell_type": "code",
   "execution_count": 0,
   "metadata": {
    "application/vnd.databricks.v1+cell": {
     "cellMetadata": {},
     "inputWidgets": {},
     "nuid": "b41d1d9f-4e87-4d8f-913e-53d161c46cbe",
     "showTitle": false,
     "tableResultSettingsMap": {},
     "title": ""
    }
   },
   "outputs": [],
   "source": []
  }
 ],
 "metadata": {
  "application/vnd.databricks.v1+notebook": {
   "computePreferences": null,
   "dashboards": [],
   "environmentMetadata": {
    "base_environment": "",
    "environment_version": "3"
   },
   "inputWidgetPreferences": null,
   "language": "python",
   "notebookMetadata": {
    "pythonIndentUnit": 4
   },
   "notebookName": "Silver_Layer_Employees_Base_Data",
   "widgets": {}
  },
  "language_info": {
   "name": "python"
  }
 },
 "nbformat": 4,
 "nbformat_minor": 0
}
